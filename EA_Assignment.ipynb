{
 "cells": [
  {
   "cell_type": "code",
   "execution_count": 1,
   "id": "465ab5f0",
   "metadata": {},
   "outputs": [],
   "source": [
    "import  pandas as pd\n",
    "import numpy as np"
   ]
  },
  {
   "cell_type": "code",
   "execution_count": 4,
   "id": "1f854bf1",
   "metadata": {},
   "outputs": [
    {
     "data": {
      "text/html": [
       "<div>\n",
       "<style scoped>\n",
       "    .dataframe tbody tr th:only-of-type {\n",
       "        vertical-align: middle;\n",
       "    }\n",
       "\n",
       "    .dataframe tbody tr th {\n",
       "        vertical-align: top;\n",
       "    }\n",
       "\n",
       "    .dataframe thead th {\n",
       "        text-align: right;\n",
       "    }\n",
       "</style>\n",
       "<table border=\"1\" class=\"dataframe\">\n",
       "  <thead>\n",
       "    <tr style=\"text-align: right;\">\n",
       "      <th></th>\n",
       "      <th>account</th>\n",
       "      <th>sku</th>\n",
       "      <th>vendor</th>\n",
       "      <th>country_code</th>\n",
       "      <th>revenue</th>\n",
       "      <th>month</th>\n",
       "      <th>day</th>\n",
       "    </tr>\n",
       "  </thead>\n",
       "  <tbody>\n",
       "    <tr>\n",
       "      <th>0</th>\n",
       "      <td>df2941729e64538aa272bf8d4d26678a</td>\n",
       "      <td>70efdf2ec9b086079795c442636b55fb</td>\n",
       "      <td>vendor26</td>\n",
       "      <td>country177</td>\n",
       "      <td>23.111304</td>\n",
       "      <td>5</td>\n",
       "      <td>13</td>\n",
       "    </tr>\n",
       "    <tr>\n",
       "      <th>1</th>\n",
       "      <td>8f475441a9f7ac5d15f861974f8fb2f1</td>\n",
       "      <td>70efdf2ec9b086079795c442636b55fb</td>\n",
       "      <td>vendor26</td>\n",
       "      <td>country204</td>\n",
       "      <td>92.445215</td>\n",
       "      <td>5</td>\n",
       "      <td>13</td>\n",
       "    </tr>\n",
       "    <tr>\n",
       "      <th>2</th>\n",
       "      <td>6400e8af8eaa676c8f36c05ee2265ceb</td>\n",
       "      <td>b73ce398c39f506af761d2277d853a92</td>\n",
       "      <td>vendor26</td>\n",
       "      <td>country194</td>\n",
       "      <td>96.544871</td>\n",
       "      <td>5</td>\n",
       "      <td>14</td>\n",
       "    </tr>\n",
       "    <tr>\n",
       "      <th>3</th>\n",
       "      <td>5000216823a102631e4ed8e6a892bad5</td>\n",
       "      <td>cfa0860e83a4c3a763a7e62d825349f7</td>\n",
       "      <td>vendor26</td>\n",
       "      <td>country120</td>\n",
       "      <td>124.705000</td>\n",
       "      <td>5</td>\n",
       "      <td>15</td>\n",
       "    </tr>\n",
       "    <tr>\n",
       "      <th>4</th>\n",
       "      <td>fcf3c16bb2eb545e319f0c859c64d59b</td>\n",
       "      <td>cfa0860e83a4c3a763a7e62d825349f7</td>\n",
       "      <td>vendor26</td>\n",
       "      <td>country120</td>\n",
       "      <td>124.705000</td>\n",
       "      <td>5</td>\n",
       "      <td>15</td>\n",
       "    </tr>\n",
       "    <tr>\n",
       "      <th>...</th>\n",
       "      <td>...</td>\n",
       "      <td>...</td>\n",
       "      <td>...</td>\n",
       "      <td>...</td>\n",
       "      <td>...</td>\n",
       "      <td>...</td>\n",
       "      <td>...</td>\n",
       "    </tr>\n",
       "    <tr>\n",
       "      <th>729195</th>\n",
       "      <td>5fcf26d4ff5718ae192dd3faddcca421</td>\n",
       "      <td>6f4922f45568161a8cdf4ad2299f6d23</td>\n",
       "      <td>vendor33</td>\n",
       "      <td>country52</td>\n",
       "      <td>25.775117</td>\n",
       "      <td>6</td>\n",
       "      <td>30</td>\n",
       "    </tr>\n",
       "    <tr>\n",
       "      <th>729196</th>\n",
       "      <td>dc4429d1f3d4fa80c88f0acb83e4a213</td>\n",
       "      <td>5e02b868a91671f9140a41f3946f33cb</td>\n",
       "      <td>vendor42</td>\n",
       "      <td>country52</td>\n",
       "      <td>13.591588</td>\n",
       "      <td>6</td>\n",
       "      <td>30</td>\n",
       "    </tr>\n",
       "    <tr>\n",
       "      <th>729197</th>\n",
       "      <td>8a2807d9c6c48dc127715bbcacd5bea8</td>\n",
       "      <td>6abcc8f24321d1eb8c95855eab78ee95</td>\n",
       "      <td>vendor42</td>\n",
       "      <td>country71</td>\n",
       "      <td>61.662813</td>\n",
       "      <td>6</td>\n",
       "      <td>30</td>\n",
       "    </tr>\n",
       "    <tr>\n",
       "      <th>729198</th>\n",
       "      <td>d0f7fc011e7cc0fc0d2381970f13eed5</td>\n",
       "      <td>cfa0860e83a4c3a763a7e62d825349f7</td>\n",
       "      <td>vendor11</td>\n",
       "      <td>country52</td>\n",
       "      <td>99.764000</td>\n",
       "      <td>6</td>\n",
       "      <td>30</td>\n",
       "    </tr>\n",
       "    <tr>\n",
       "      <th>729199</th>\n",
       "      <td>cf3a67beac91c3c1c8b82f408c3b30da</td>\n",
       "      <td>70efdf2ec9b086079795c442636b55fb</td>\n",
       "      <td>vendor11</td>\n",
       "      <td>country52</td>\n",
       "      <td>92.445215</td>\n",
       "      <td>6</td>\n",
       "      <td>30</td>\n",
       "    </tr>\n",
       "  </tbody>\n",
       "</table>\n",
       "<p>729200 rows × 7 columns</p>\n",
       "</div>"
      ],
      "text/plain": [
       "                                 account                               sku  \\\n",
       "0       df2941729e64538aa272bf8d4d26678a  70efdf2ec9b086079795c442636b55fb   \n",
       "1       8f475441a9f7ac5d15f861974f8fb2f1  70efdf2ec9b086079795c442636b55fb   \n",
       "2       6400e8af8eaa676c8f36c05ee2265ceb  b73ce398c39f506af761d2277d853a92   \n",
       "3       5000216823a102631e4ed8e6a892bad5  cfa0860e83a4c3a763a7e62d825349f7   \n",
       "4       fcf3c16bb2eb545e319f0c859c64d59b  cfa0860e83a4c3a763a7e62d825349f7   \n",
       "...                                  ...                               ...   \n",
       "729195  5fcf26d4ff5718ae192dd3faddcca421  6f4922f45568161a8cdf4ad2299f6d23   \n",
       "729196  dc4429d1f3d4fa80c88f0acb83e4a213  5e02b868a91671f9140a41f3946f33cb   \n",
       "729197  8a2807d9c6c48dc127715bbcacd5bea8  6abcc8f24321d1eb8c95855eab78ee95   \n",
       "729198  d0f7fc011e7cc0fc0d2381970f13eed5  cfa0860e83a4c3a763a7e62d825349f7   \n",
       "729199  cf3a67beac91c3c1c8b82f408c3b30da  70efdf2ec9b086079795c442636b55fb   \n",
       "\n",
       "          vendor country_code     revenue  month  day  \n",
       "0       vendor26   country177   23.111304      5   13  \n",
       "1       vendor26   country204   92.445215      5   13  \n",
       "2       vendor26   country194   96.544871      5   14  \n",
       "3       vendor26   country120  124.705000      5   15  \n",
       "4       vendor26   country120  124.705000      5   15  \n",
       "...          ...          ...         ...    ...  ...  \n",
       "729195  vendor33    country52   25.775117      6   30  \n",
       "729196  vendor42    country52   13.591588      6   30  \n",
       "729197  vendor42    country71   61.662813      6   30  \n",
       "729198  vendor11    country52   99.764000      6   30  \n",
       "729199  vendor11    country52   92.445215      6   30  \n",
       "\n",
       "[729200 rows x 7 columns]"
      ]
     },
     "execution_count": 4,
     "metadata": {},
     "output_type": "execute_result"
    }
   ],
   "source": [
    "# m_mock_transaction_20190621.csv\n",
    "# PC Transaction data for a period of 6 months.\n",
    "# Revenue is raw data (no fees applied).\n",
    "\n",
    "transaction = pd.read_csv(r\"c:\\Users\\dishadaquid.jahan\\OneDrive - AVEVA Solutions Limited\\Desktop\\programming_test_20190625_\\m_mock_transaction_20190621.csv\")\n",
    "transaction\n",
    "\n"
   ]
  },
  {
   "cell_type": "code",
   "execution_count": 5,
   "id": "83018079",
   "metadata": {},
   "outputs": [
    {
     "data": {
      "text/plain": [
       "account         0\n",
       "sku             0\n",
       "vendor          0\n",
       "country_code    0\n",
       "revenue         0\n",
       "month           0\n",
       "day             0\n",
       "dtype: int64"
      ]
     },
     "execution_count": 5,
     "metadata": {},
     "output_type": "execute_result"
    }
   ],
   "source": [
    "transaction.isnull().sum()\n"
   ]
  },
  {
   "cell_type": "code",
   "execution_count": 8,
   "id": "5746390d",
   "metadata": {},
   "outputs": [
    {
     "data": {
      "text/html": [
       "<div>\n",
       "<style scoped>\n",
       "    .dataframe tbody tr th:only-of-type {\n",
       "        vertical-align: middle;\n",
       "    }\n",
       "\n",
       "    .dataframe tbody tr th {\n",
       "        vertical-align: top;\n",
       "    }\n",
       "\n",
       "    .dataframe thead th {\n",
       "        text-align: right;\n",
       "    }\n",
       "</style>\n",
       "<table border=\"1\" class=\"dataframe\">\n",
       "  <thead>\n",
       "    <tr style=\"text-align: right;\">\n",
       "      <th></th>\n",
       "      <th>country_code</th>\n",
       "      <th>month</th>\n",
       "      <th>day</th>\n",
       "      <th>relative_active_users</th>\n",
       "    </tr>\n",
       "  </thead>\n",
       "  <tbody>\n",
       "    <tr>\n",
       "      <th>0</th>\n",
       "      <td>country52</td>\n",
       "      <td>1</td>\n",
       "      <td>26</td>\n",
       "      <td>0.128544</td>\n",
       "    </tr>\n",
       "    <tr>\n",
       "      <th>1</th>\n",
       "      <td>country67</td>\n",
       "      <td>2</td>\n",
       "      <td>20</td>\n",
       "      <td>0.000012</td>\n",
       "    </tr>\n",
       "    <tr>\n",
       "      <th>2</th>\n",
       "      <td>country55</td>\n",
       "      <td>4</td>\n",
       "      <td>21</td>\n",
       "      <td>0.000018</td>\n",
       "    </tr>\n",
       "    <tr>\n",
       "      <th>3</th>\n",
       "      <td>country173</td>\n",
       "      <td>2</td>\n",
       "      <td>20</td>\n",
       "      <td>0.000179</td>\n",
       "    </tr>\n",
       "    <tr>\n",
       "      <th>4</th>\n",
       "      <td>country192</td>\n",
       "      <td>6</td>\n",
       "      <td>7</td>\n",
       "      <td>0.000002</td>\n",
       "    </tr>\n",
       "    <tr>\n",
       "      <th>...</th>\n",
       "      <td>...</td>\n",
       "      <td>...</td>\n",
       "      <td>...</td>\n",
       "      <td>...</td>\n",
       "    </tr>\n",
       "    <tr>\n",
       "      <th>36801</th>\n",
       "      <td>country200</td>\n",
       "      <td>5</td>\n",
       "      <td>18</td>\n",
       "      <td>0.000004</td>\n",
       "    </tr>\n",
       "    <tr>\n",
       "      <th>36802</th>\n",
       "      <td>country13</td>\n",
       "      <td>3</td>\n",
       "      <td>10</td>\n",
       "      <td>0.000012</td>\n",
       "    </tr>\n",
       "    <tr>\n",
       "      <th>36803</th>\n",
       "      <td>country21</td>\n",
       "      <td>1</td>\n",
       "      <td>7</td>\n",
       "      <td>0.000004</td>\n",
       "    </tr>\n",
       "    <tr>\n",
       "      <th>36804</th>\n",
       "      <td>country146</td>\n",
       "      <td>5</td>\n",
       "      <td>3</td>\n",
       "      <td>0.000041</td>\n",
       "    </tr>\n",
       "    <tr>\n",
       "      <th>36805</th>\n",
       "      <td>country60</td>\n",
       "      <td>6</td>\n",
       "      <td>7</td>\n",
       "      <td>0.002127</td>\n",
       "    </tr>\n",
       "  </tbody>\n",
       "</table>\n",
       "<p>36806 rows × 4 columns</p>\n",
       "</div>"
      ],
      "text/plain": [
       "      country_code  month  day  relative_active_users\n",
       "0        country52      1   26               0.128544\n",
       "1        country67      2   20               0.000012\n",
       "2        country55      4   21               0.000018\n",
       "3       country173      2   20               0.000179\n",
       "4       country192      6    7               0.000002\n",
       "...            ...    ...  ...                    ...\n",
       "36801   country200      5   18               0.000004\n",
       "36802    country13      3   10               0.000012\n",
       "36803    country21      1    7               0.000004\n",
       "36804   country146      5    3               0.000041\n",
       "36805    country60      6    7               0.002127\n",
       "\n",
       "[36806 rows x 4 columns]"
      ]
     },
     "execution_count": 8,
     "metadata": {},
     "output_type": "execute_result"
    }
   ],
   "source": [
    "# m_mock_active_users_20190621.csv\n",
    "# Daily active users by country for a period of 6 months.\n",
    "# Values are unitless and relative, can be used for evaluation of trends, comparisons between countries, etc.\n",
    "\n",
    "active_users = pd.read_csv(r\"c:\\Users\\dishadaquid.jahan\\OneDrive - AVEVA Solutions Limited\\Desktop\\programming_test_20190625_\\m_mock_active_users_20190621.csv\")\n",
    "active_users"
   ]
  },
  {
   "cell_type": "code",
   "execution_count": 9,
   "id": "d8f79900",
   "metadata": {},
   "outputs": [
    {
     "data": {
      "text/plain": [
       "country_code             0\n",
       "month                    0\n",
       "day                      0\n",
       "relative_active_users    0\n",
       "dtype: int64"
      ]
     },
     "execution_count": 9,
     "metadata": {},
     "output_type": "execute_result"
    }
   ],
   "source": [
    "active_users.isnull().sum()"
   ]
  },
  {
   "cell_type": "code",
   "execution_count": 11,
   "id": "1cbbdcbd",
   "metadata": {
    "scrolled": true
   },
   "outputs": [
    {
     "data": {
      "text/html": [
       "<div>\n",
       "<style scoped>\n",
       "    .dataframe tbody tr th:only-of-type {\n",
       "        vertical-align: middle;\n",
       "    }\n",
       "\n",
       "    .dataframe tbody tr th {\n",
       "        vertical-align: top;\n",
       "    }\n",
       "\n",
       "    .dataframe thead th {\n",
       "        text-align: right;\n",
       "    }\n",
       "</style>\n",
       "<table border=\"1\" class=\"dataframe\">\n",
       "  <thead>\n",
       "    <tr style=\"text-align: right;\">\n",
       "      <th></th>\n",
       "      <th>vendor_id</th>\n",
       "      <th>fee_percentage</th>\n",
       "    </tr>\n",
       "  </thead>\n",
       "  <tbody>\n",
       "    <tr>\n",
       "      <th>0</th>\n",
       "      <td>vendor1</td>\n",
       "      <td>10.0</td>\n",
       "    </tr>\n",
       "    <tr>\n",
       "      <th>1</th>\n",
       "      <td>vendor2</td>\n",
       "      <td>NaN</td>\n",
       "    </tr>\n",
       "    <tr>\n",
       "      <th>2</th>\n",
       "      <td>vendor3</td>\n",
       "      <td>NaN</td>\n",
       "    </tr>\n",
       "    <tr>\n",
       "      <th>3</th>\n",
       "      <td>vendor4</td>\n",
       "      <td>NaN</td>\n",
       "    </tr>\n",
       "    <tr>\n",
       "      <th>4</th>\n",
       "      <td>vendor5</td>\n",
       "      <td>NaN</td>\n",
       "    </tr>\n",
       "    <tr>\n",
       "      <th>5</th>\n",
       "      <td>vendor6</td>\n",
       "      <td>NaN</td>\n",
       "    </tr>\n",
       "    <tr>\n",
       "      <th>6</th>\n",
       "      <td>vendor7</td>\n",
       "      <td>NaN</td>\n",
       "    </tr>\n",
       "    <tr>\n",
       "      <th>7</th>\n",
       "      <td>vendor8</td>\n",
       "      <td>NaN</td>\n",
       "    </tr>\n",
       "    <tr>\n",
       "      <th>8</th>\n",
       "      <td>vendor9</td>\n",
       "      <td>NaN</td>\n",
       "    </tr>\n",
       "    <tr>\n",
       "      <th>9</th>\n",
       "      <td>vendor10</td>\n",
       "      <td>NaN</td>\n",
       "    </tr>\n",
       "    <tr>\n",
       "      <th>10</th>\n",
       "      <td>vendor11</td>\n",
       "      <td>5.0</td>\n",
       "    </tr>\n",
       "    <tr>\n",
       "      <th>11</th>\n",
       "      <td>vendor12</td>\n",
       "      <td>NaN</td>\n",
       "    </tr>\n",
       "    <tr>\n",
       "      <th>12</th>\n",
       "      <td>vendor13</td>\n",
       "      <td>NaN</td>\n",
       "    </tr>\n",
       "    <tr>\n",
       "      <th>13</th>\n",
       "      <td>vendor14</td>\n",
       "      <td>NaN</td>\n",
       "    </tr>\n",
       "    <tr>\n",
       "      <th>14</th>\n",
       "      <td>vendor15</td>\n",
       "      <td>NaN</td>\n",
       "    </tr>\n",
       "    <tr>\n",
       "      <th>15</th>\n",
       "      <td>vendor16</td>\n",
       "      <td>NaN</td>\n",
       "    </tr>\n",
       "    <tr>\n",
       "      <th>16</th>\n",
       "      <td>vendor17</td>\n",
       "      <td>NaN</td>\n",
       "    </tr>\n",
       "    <tr>\n",
       "      <th>17</th>\n",
       "      <td>vendor18</td>\n",
       "      <td>NaN</td>\n",
       "    </tr>\n",
       "    <tr>\n",
       "      <th>18</th>\n",
       "      <td>vendor19</td>\n",
       "      <td>NaN</td>\n",
       "    </tr>\n",
       "    <tr>\n",
       "      <th>19</th>\n",
       "      <td>vendor20</td>\n",
       "      <td>NaN</td>\n",
       "    </tr>\n",
       "    <tr>\n",
       "      <th>20</th>\n",
       "      <td>vendor21</td>\n",
       "      <td>NaN</td>\n",
       "    </tr>\n",
       "    <tr>\n",
       "      <th>21</th>\n",
       "      <td>vendor22</td>\n",
       "      <td>NaN</td>\n",
       "    </tr>\n",
       "    <tr>\n",
       "      <th>22</th>\n",
       "      <td>vendor23</td>\n",
       "      <td>NaN</td>\n",
       "    </tr>\n",
       "    <tr>\n",
       "      <th>23</th>\n",
       "      <td>vendor24</td>\n",
       "      <td>NaN</td>\n",
       "    </tr>\n",
       "    <tr>\n",
       "      <th>24</th>\n",
       "      <td>vendor25</td>\n",
       "      <td>NaN</td>\n",
       "    </tr>\n",
       "    <tr>\n",
       "      <th>25</th>\n",
       "      <td>vendor26</td>\n",
       "      <td>20.0</td>\n",
       "    </tr>\n",
       "    <tr>\n",
       "      <th>26</th>\n",
       "      <td>vendor27</td>\n",
       "      <td>NaN</td>\n",
       "    </tr>\n",
       "    <tr>\n",
       "      <th>27</th>\n",
       "      <td>vendor28</td>\n",
       "      <td>NaN</td>\n",
       "    </tr>\n",
       "    <tr>\n",
       "      <th>28</th>\n",
       "      <td>vendor29</td>\n",
       "      <td>NaN</td>\n",
       "    </tr>\n",
       "    <tr>\n",
       "      <th>29</th>\n",
       "      <td>vendor30</td>\n",
       "      <td>NaN</td>\n",
       "    </tr>\n",
       "    <tr>\n",
       "      <th>30</th>\n",
       "      <td>vendor31</td>\n",
       "      <td>NaN</td>\n",
       "    </tr>\n",
       "    <tr>\n",
       "      <th>31</th>\n",
       "      <td>vendor32</td>\n",
       "      <td>NaN</td>\n",
       "    </tr>\n",
       "    <tr>\n",
       "      <th>32</th>\n",
       "      <td>vendor33</td>\n",
       "      <td>22.0</td>\n",
       "    </tr>\n",
       "    <tr>\n",
       "      <th>33</th>\n",
       "      <td>vendor34</td>\n",
       "      <td>NaN</td>\n",
       "    </tr>\n",
       "    <tr>\n",
       "      <th>34</th>\n",
       "      <td>vendor35</td>\n",
       "      <td>NaN</td>\n",
       "    </tr>\n",
       "    <tr>\n",
       "      <th>35</th>\n",
       "      <td>vendor36</td>\n",
       "      <td>25.0</td>\n",
       "    </tr>\n",
       "    <tr>\n",
       "      <th>36</th>\n",
       "      <td>vendor37</td>\n",
       "      <td>30.0</td>\n",
       "    </tr>\n",
       "    <tr>\n",
       "      <th>37</th>\n",
       "      <td>vendor38</td>\n",
       "      <td>NaN</td>\n",
       "    </tr>\n",
       "    <tr>\n",
       "      <th>38</th>\n",
       "      <td>vendor39</td>\n",
       "      <td>NaN</td>\n",
       "    </tr>\n",
       "    <tr>\n",
       "      <th>39</th>\n",
       "      <td>vendor40</td>\n",
       "      <td>NaN</td>\n",
       "    </tr>\n",
       "    <tr>\n",
       "      <th>40</th>\n",
       "      <td>vendor41</td>\n",
       "      <td>NaN</td>\n",
       "    </tr>\n",
       "    <tr>\n",
       "      <th>41</th>\n",
       "      <td>vendor42</td>\n",
       "      <td>20.0</td>\n",
       "    </tr>\n",
       "    <tr>\n",
       "      <th>42</th>\n",
       "      <td>vendor43</td>\n",
       "      <td>NaN</td>\n",
       "    </tr>\n",
       "    <tr>\n",
       "      <th>43</th>\n",
       "      <td>vendor44</td>\n",
       "      <td>NaN</td>\n",
       "    </tr>\n",
       "  </tbody>\n",
       "</table>\n",
       "</div>"
      ],
      "text/plain": [
       "   vendor_id  fee_percentage\n",
       "0    vendor1            10.0\n",
       "1    vendor2             NaN\n",
       "2    vendor3             NaN\n",
       "3    vendor4             NaN\n",
       "4    vendor5             NaN\n",
       "5    vendor6             NaN\n",
       "6    vendor7             NaN\n",
       "7    vendor8             NaN\n",
       "8    vendor9             NaN\n",
       "9   vendor10             NaN\n",
       "10  vendor11             5.0\n",
       "11  vendor12             NaN\n",
       "12  vendor13             NaN\n",
       "13  vendor14             NaN\n",
       "14  vendor15             NaN\n",
       "15  vendor16             NaN\n",
       "16  vendor17             NaN\n",
       "17  vendor18             NaN\n",
       "18  vendor19             NaN\n",
       "19  vendor20             NaN\n",
       "20  vendor21             NaN\n",
       "21  vendor22             NaN\n",
       "22  vendor23             NaN\n",
       "23  vendor24             NaN\n",
       "24  vendor25             NaN\n",
       "25  vendor26            20.0\n",
       "26  vendor27             NaN\n",
       "27  vendor28             NaN\n",
       "28  vendor29             NaN\n",
       "29  vendor30             NaN\n",
       "30  vendor31             NaN\n",
       "31  vendor32             NaN\n",
       "32  vendor33            22.0\n",
       "33  vendor34             NaN\n",
       "34  vendor35             NaN\n",
       "35  vendor36            25.0\n",
       "36  vendor37            30.0\n",
       "37  vendor38             NaN\n",
       "38  vendor39             NaN\n",
       "39  vendor40             NaN\n",
       "40  vendor41             NaN\n",
       "41  vendor42            20.0\n",
       "42  vendor43             NaN\n",
       "43  vendor44             NaN"
      ]
     },
     "execution_count": 11,
     "metadata": {},
     "output_type": "execute_result"
    }
   ],
   "source": [
    "# m_vendor_map.csv\n",
    "# Transaction percentage associated with vendor.\n",
    "# Smaller vendors currently have 'unknown' fees. Choose how best to deal with this in your analysis.\n",
    "\n",
    "vendor_map= pd.read_csv(r\"c:\\Users\\dishadaquid.jahan\\OneDrive - AVEVA Solutions Limited\\Desktop\\programming_test_20190625_\\m_vendor_map.csv\")\n",
    "vendor_map"
   ]
  },
  {
   "cell_type": "code",
   "execution_count": 12,
   "id": "fef17d96",
   "metadata": {},
   "outputs": [
    {
     "data": {
      "text/plain": [
       "vendor_id          0\n",
       "fee_percentage    37\n",
       "dtype: int64"
      ]
     },
     "execution_count": 12,
     "metadata": {},
     "output_type": "execute_result"
    }
   ],
   "source": [
    "vendor_map.isnull().sum()"
   ]
  },
  {
   "cell_type": "code",
   "execution_count": 15,
   "id": "444227b1",
   "metadata": {},
   "outputs": [],
   "source": [
    "# As the \"fee_percentage\" column contains NaN values, converting the column to only contain numerical values\n",
    "# Converting the column to numeric type\n",
    "vendor_map['fee_percentage'] = pd.to_numeric(vendor_map['fee_percentage'], errors='coerce')\n",
    "\n",
    "# Flling NaN values with the mean\n",
    "mean_fee_percentage = vendor_map['fee_percentage'].mean()\n",
    "vendor_map['fee_percentage'].fillna(mean_fee_percentage, inplace=True)"
   ]
  },
  {
   "cell_type": "code",
   "execution_count": 17,
   "id": "9e4080a3",
   "metadata": {},
   "outputs": [
    {
     "data": {
      "text/plain": [
       "vendor_id         0\n",
       "fee_percentage    0\n",
       "dtype: int64"
      ]
     },
     "execution_count": 17,
     "metadata": {},
     "output_type": "execute_result"
    }
   ],
   "source": [
    "# Checking that all the rows are converted to numeric type\n",
    "vendor_map.isnull().sum()"
   ]
  },
  {
   "cell_type": "code",
   "execution_count": 6,
   "id": "77816d32",
   "metadata": {},
   "outputs": [
    {
     "data": {
      "text/plain": [
       "'\\n\\nProblem Summary:\\nIn Warframe, players buy various items (denoted by a sku) with real world money. \\nThese transactions can be handled by a variety of vendors. These vendors help facilitate transactions and take a cut \\nof the revenue. One area of work is in the optimization of these vendors (ie. Which vendors to present to users,\\nand under what circumstances should these vendors be offered). The key point here being, since different vendors\\ntake different cuts, will removing high fee vendors result in partial or total migration to alternative, lower fee,\\nvendors. On April 1st one such vendor (vendor37) was temporarily shut down due to external circumstances. \\nThe transaction data in m_mock_transaction_20190621.csv is a record of all transactions in the 3 months preceding this\\nshutdown, and the 3 months since. We are now asked by the finance department to determine whether it is beneficial for\\nus as a company to reopen vendor37 or if it should remain closed. Provided is all the data required to carry out \\nanalysis behind this question, and to provide an argument for or against reopening vendor37. Below you will find 2 \\nspecific focus areas to loosely structure your analysis on.\\n\\n\\nPart 1: General Analysis\\nThe main point here is giving us (and the finance department) a general overview of the data. Isolating key metric\\nand presenting them in a clear way is essential. This is meant to be a basic analysis (ie. modelling is not required).\\nBelow is a list of general metrics we would like to be covered:\\n•    Before closure – what did revenue look like for vendor37?\\n'"
      ]
     },
     "execution_count": 6,
     "metadata": {},
     "output_type": "execute_result"
    }
   ],
   "source": [
    "\n",
    "'''\n",
    "\n",
    "Problem Summary:\n",
    "In Warframe, players buy various items (denoted by a sku) with real world money. \n",
    "These transactions can be handled by a variety of vendors. These vendors help facilitate transactions and take a cut \n",
    "of the revenue. One area of work is in the optimization of these vendors (ie. Which vendors to present to users,\n",
    "and under what circumstances should these vendors be offered). The key point here being, since different vendors\n",
    "take different cuts, will removing high fee vendors result in partial or total migration to alternative, lower fee,\n",
    "vendors. On April 1st one such vendor (vendor37) was temporarily shut down due to external circumstances. \n",
    "The transaction data in m_mock_transaction_20190621.csv is a record of all transactions in the 3 months preceding this\n",
    "shutdown, and the 3 months since. We are now asked by the finance department to determine whether it is beneficial for\n",
    "us as a company to reopen vendor37 or if it should remain closed. Provided is all the data required to carry out \n",
    "analysis behind this question, and to provide an argument for or against reopening vendor37. Below you will find 2 \n",
    "specific focus areas to loosely structure your analysis on.\n",
    "\n",
    "\n",
    "Part 1: General Analysis\n",
    "The main point here is giving us (and the finance department) a general overview of the data. Isolating key metric\n",
    "and presenting them in a clear way is essential. This is meant to be a basic analysis (ie. modelling is not required).\n",
    "Below is a list of general metrics we would like to be covered:\n",
    "•    Before closure – what did revenue look like for vendor37?\n",
    "'''\n",
    "\n"
   ]
  },
  {
   "cell_type": "code",
   "execution_count": 18,
   "id": "9efcd111",
   "metadata": {
    "scrolled": true
   },
   "outputs": [
    {
     "data": {
      "text/plain": [
       "array([5, 6, 3, 2, 1, 4], dtype=int64)"
      ]
     },
     "execution_count": 18,
     "metadata": {},
     "output_type": "execute_result"
    }
   ],
   "source": [
    "# Exploring the data \n",
    "transaction[\"month\"].unique()"
   ]
  },
  {
   "cell_type": "code",
   "execution_count": 19,
   "id": "8b2a47a4",
   "metadata": {},
   "outputs": [
    {
     "data": {
      "text/plain": [
       "174497.48305354"
      ]
     },
     "execution_count": 19,
     "metadata": {},
     "output_type": "execute_result"
    }
   ],
   "source": [
    "# Before closure – what did revenue look like for vendor37?\n",
    "\n",
    "vendor37_early_revenue = transaction[(transaction[\"vendor\"]==\"vendor37\") & (transaction['month'] <= 3)][\"revenue\"].sum()\n",
    "vendor37_early_revenue"
   ]
  },
  {
   "cell_type": "code",
   "execution_count": 53,
   "id": "f09c18b6",
   "metadata": {},
   "outputs": [
    {
     "name": "stdout",
     "output_type": "stream",
     "text": [
      "Total_revenue 40938991.143683374\n",
      "Proportion 0.4262378680537267\n"
     ]
    }
   ],
   "source": [
    "# Proportion of total revenue \n",
    "Total_revenue = transaction['revenue'].sum()\n",
    "print(\"Total_revenue\",Total_revenue)\n",
    "Proportion= vendor37_early_revenue /Total_revenue * 100\n",
    "    \n",
    "print(\"Proportion\",Proportion)"
   ]
  },
  {
   "cell_type": "code",
   "execution_count": 55,
   "id": "30b13126",
   "metadata": {},
   "outputs": [
    {
     "name": "stdout",
     "output_type": "stream",
     "text": [
      "Total revenue: 23890097.135271635\n",
      "Proportion 0.7304176373394051\n"
     ]
    }
   ],
   "source": [
    "# Filtering transactions within the first three months\n",
    "filtered_transactions = transaction[transaction['month'] <= 3]\n",
    "\n",
    "# Calculating the total revenue for the filtered transactions\n",
    "total_revenue = filtered_transactions['revenue'].sum()\n",
    "print(\"Total revenue:\", total_revenue)\n",
    "\n",
    "Proportion = vendor37_early_revenue /total_revenue * 100 \n",
    "print(\"Proportion\",Proportion)"
   ]
  },
  {
   "cell_type": "code",
   "execution_count": 21,
   "id": "87290582",
   "metadata": {
    "scrolled": false
   },
   "outputs": [
    {
     "data": {
      "text/plain": [
       "array([], dtype=float64)"
      ]
     },
     "execution_count": 21,
     "metadata": {},
     "output_type": "execute_result"
    }
   ],
   "source": [
    " \n",
    "# Revenue/transactions per day through vendor37\n",
    "vendor37_early_revenue/()"
   ]
  },
  {
   "cell_type": "code",
   "execution_count": 22,
   "id": "6255907e",
   "metadata": {},
   "outputs": [
    {
     "data": {
      "text/plain": [
       "1938.860922817111"
      ]
     },
     "execution_count": 22,
     "metadata": {},
     "output_type": "execute_result"
    }
   ],
   "source": [
    "# vendor37_early_revenue revenue per day \n",
    "revenue_per_day =vendor37_early_revenue/(31+31+28)\n",
    "revenue_per_day"
   ]
  },
  {
   "cell_type": "code",
   "execution_count": 23,
   "id": "a1d7079e",
   "metadata": {
    "scrolled": true
   },
   "outputs": [
    {
     "name": "stdout",
     "output_type": "stream",
     "text": [
      "vendor37_transaction 1879\n",
      "V37_transaction_per_day 20.877777777777776\n"
     ]
    }
   ],
   "source": [
    "# vendor37_early_revenue transaction_per_day\n",
    "vendor37_transaction=len(transaction[transaction['vendor']==\"vendor37\"])\n",
    "print(\"vendor37_transaction\",vendor37_transaction)\n",
    "V37_transaction_per_day =vendor37_transaction/(31+31+28)\n",
    "print(\"V37_transaction_per_day\",V37_transaction_per_day)"
   ]
  },
  {
   "cell_type": "code",
   "execution_count": 24,
   "id": "97863a57",
   "metadata": {},
   "outputs": [
    {
     "data": {
      "text/plain": [
       "'\\n\\t•    Regional usage details\\n•    What is an upper bound for revenue loss following the closure?\\n•    Number of users expected to be affected by the closure?\\n•    Is there a measurable revenue change as a result of the closure (on April 1)?'"
      ]
     },
     "execution_count": 24,
     "metadata": {},
     "output_type": "execute_result"
    }
   ],
   "source": [
    "'''\n",
    "•    Regional usage details\n",
    "•    What is an upper bound for revenue loss following the closure?\n",
    "•    Number of users expected to be affected by the closure?\n",
    "•    Is there a measurable revenue change as a result of the closure (on April 1)?'''"
   ]
  },
  {
   "cell_type": "code",
   "execution_count": 25,
   "id": "b80ff91f",
   "metadata": {},
   "outputs": [
    {
     "data": {
      "text/plain": [
       "country_code\n",
       "country11       514.777510\n",
       "country119       96.858065\n",
       "country120       25.775117\n",
       "country124      124.705000\n",
       "country139      356.637187\n",
       "country141      124.705000\n",
       "country144       96.544871\n",
       "country16     16477.240870\n",
       "country168      249.409999\n",
       "country176      124.705000\n",
       "country18       138.563423\n",
       "country180       25.775117\n",
       "country181      249.409999\n",
       "country182     1223.183866\n",
       "country185      107.227188\n",
       "country194     2180.773248\n",
       "country196       16.941232\n",
       "country20      1022.203334\n",
       "country206      650.780274\n",
       "country207      509.267833\n",
       "country209      124.705000\n",
       "country211      492.335331\n",
       "country214    16390.610409\n",
       "country217    10587.316353\n",
       "country228      148.095104\n",
       "country28        96.544871\n",
       "country30       221.563065\n",
       "country32        96.858065\n",
       "country33        31.336235\n",
       "country35        96.544871\n",
       "country45     49904.493375\n",
       "country51      9763.318842\n",
       "country52      2510.068124\n",
       "country57       560.720072\n",
       "country6         25.775117\n",
       "country60       310.999247\n",
       "country61       521.599748\n",
       "country66     57643.564793\n",
       "country71       124.705000\n",
       "country85       406.140300\n",
       "country9        124.705000\n",
       "Name: revenue, dtype: float64"
      ]
     },
     "execution_count": 25,
     "metadata": {},
     "output_type": "execute_result"
    }
   ],
   "source": [
    "# Regional usage details\n",
    "transaction[transaction[\"vendor\"]==\"vendor37\"].groupby('country_code')['revenue'].sum()\n"
   ]
  },
  {
   "cell_type": "code",
   "execution_count": 26,
   "id": "06b0a932",
   "metadata": {},
   "outputs": [
    {
     "data": {
      "text/plain": [
       "176436.3439763571"
      ]
     },
     "execution_count": 26,
     "metadata": {},
     "output_type": "execute_result"
    }
   ],
   "source": [
    "# What is an upper bound for revenue loss following the closure?\n",
    "revenue_per_day*(30+31+30)"
   ]
  },
  {
   "cell_type": "code",
   "execution_count": 27,
   "id": "460bd856",
   "metadata": {},
   "outputs": [
    {
     "name": "stdout",
     "output_type": "stream",
     "text": [
      "early_closure_transactions 125596.33697536832\n",
      "after_closure_transactions 329281.34239889134\n"
     ]
    }
   ],
   "source": [
    "# Is there a measurable revenue change as a result of the closure (on April 1)?\n",
    "\n",
    "early_closure_transactions = (transaction[ (transaction['month'] > 4)].revenue.sum())/(31+28+31)\n",
    "print(\"early_closure_transactions\",early_closure_transactions)\n",
    "after_closure_transactions = transaction[(transaction['month'] <= 4)].revenue.sum()/(31+28+31)\n",
    "print(\"after_closure_transactions\",after_closure_transactions)\n",
    "\n"
   ]
  },
  {
   "cell_type": "code",
   "execution_count": 28,
   "id": "f2320b71",
   "metadata": {},
   "outputs": [
    {
     "data": {
      "text/plain": [
       "253994.303802981"
      ]
     },
     "execution_count": 28,
     "metadata": {},
     "output_type": "execute_result"
    }
   ],
   "source": [
    "mar31_transactions = (transaction[ (transaction['month'] ==3 ) & (transaction['day']==31)].revenue.sum())\n",
    "mar31_transactions"
   ]
  },
  {
   "cell_type": "code",
   "execution_count": 29,
   "id": "ed313915",
   "metadata": {},
   "outputs": [
    {
     "data": {
      "text/plain": [
       "255652.710711907"
      ]
     },
     "execution_count": 29,
     "metadata": {},
     "output_type": "execute_result"
    }
   ],
   "source": [
    "april1_transactions =transaction[(transaction['month'] ==4 ) & (transaction['day']==1)].revenue.sum()\n",
    "april1_transactions"
   ]
  },
  {
   "cell_type": "code",
   "execution_count": 30,
   "id": "8265ac47",
   "metadata": {},
   "outputs": [
    {
     "data": {
      "text/plain": [
       "1658.406908926001"
      ]
     },
     "execution_count": 30,
     "metadata": {},
     "output_type": "execute_result"
    }
   ],
   "source": [
    "# 1 April has more transaction \n",
    "\n",
    "april1_transactions-mar31_transactions"
   ]
  },
  {
   "cell_type": "code",
   "execution_count": 31,
   "id": "72424cc1",
   "metadata": {
    "scrolled": true
   },
   "outputs": [
    {
     "data": {
      "text/plain": [
       "1.006529307484834"
      ]
     },
     "execution_count": 31,
     "metadata": {},
     "output_type": "execute_result"
    }
   ],
   "source": [
    "april1_transactions/mar31_transactions"
   ]
  },
  {
   "cell_type": "code",
   "execution_count": 32,
   "id": "1274fbcb",
   "metadata": {},
   "outputs": [
    {
     "data": {
      "text/plain": [
       "2822.1589311442335"
      ]
     },
     "execution_count": 32,
     "metadata": {},
     "output_type": "execute_result"
    }
   ],
   "source": [
    "# transaction/ day before 1 april\n",
    "transaction_per_day_B= mar31_transactions/(31+28+31)\n",
    "transaction_per_day_B"
   ]
  },
  {
   "cell_type": "code",
   "execution_count": 33,
   "id": "1d205092",
   "metadata": {},
   "outputs": [
    {
     "data": {
      "text/plain": [
       "2809.3704473835937"
      ]
     },
     "execution_count": 33,
     "metadata": {},
     "output_type": "execute_result"
    }
   ],
   "source": [
    "# transaction/ day after 1 april\n",
    "transaction_per_day_A= april1_transactions/(30+30+31)\n",
    "transaction_per_day_A"
   ]
  },
  {
   "cell_type": "code",
   "execution_count": 34,
   "id": "eb29156c",
   "metadata": {},
   "outputs": [
    {
     "data": {
      "text/plain": [
       "1.004552081685258"
      ]
     },
     "execution_count": 34,
     "metadata": {},
     "output_type": "execute_result"
    }
   ],
   "source": [
    "transaction_per_day_B/transaction_per_day_A"
   ]
  },
  {
   "cell_type": "code",
   "execution_count": 35,
   "id": "83b9fdb2",
   "metadata": {},
   "outputs": [],
   "source": [
    "# How about regionally?\n",
    "# How does the spending (ARPU) of vendor37 users after closure compare to the spending of the users of other vendors?\n",
    "# Is there any indication that vendor37 users have migrated to new vendors?"
   ]
  },
  {
   "cell_type": "code",
   "execution_count": 36,
   "id": "ec270d5b",
   "metadata": {},
   "outputs": [
    {
     "data": {
      "text/plain": [
       "0.0025767964893033462"
      ]
     },
     "execution_count": 36,
     "metadata": {},
     "output_type": "execute_result"
    }
   ],
   "source": [
    "# How does the spending (ARPU) of vendor37 users after closure\n",
    "# Compare to the spending of the users of other vendors\n",
    "\n",
    "vendor_37_users = transaction[transaction['vendor'] == \"vendor37\"]['account']\n",
    "total_users = transaction['account']\n",
    "\n",
    "len(vendor_37_users)/len(total_users)"
   ]
  },
  {
   "cell_type": "code",
   "execution_count": 37,
   "id": "80668888",
   "metadata": {},
   "outputs": [],
   "source": [
    "revenue_data_early = transaction[transaction[\"month\"] < 4]\n",
    "revenue_data_late = transaction[transaction[\"month\"] >= 4]\n",
    "revenue_data_early_vendor_37_users = revenue_data_early[revenue_data_early['account'].isin(vendor_37_users)]['revenue'].sum()\n",
    "revenue_data_early_other_users = revenue_data_early[~revenue_data_early['account'].isin(vendor_37_users)]['revenue'].sum()\n",
    "revenue_data_late_vendor_37_users = revenue_data_late[revenue_data_late['account'].isin(vendor_37_users)]['revenue'].sum()\n",
    "revenue_data_late_other_users = revenue_data_late[~revenue_data_late['account'].isin(vendor_37_users)]['revenue'].sum()\n"
   ]
  },
  {
   "cell_type": "code",
   "execution_count": 38,
   "id": "39d07dbc",
   "metadata": {},
   "outputs": [
    {
     "name": "stdout",
     "output_type": "stream",
     "text": [
      "revenue_data_early_vendor_37_users 194205.376660887\n",
      "revenue_data_early_other_users 23695891.758610744\n",
      "revenue_data_late_vendor_37_users 13472.825412281\n",
      "revenue_data_late_other_users 17035421.182999454\n"
     ]
    }
   ],
   "source": [
    "print(\"revenue_data_early_vendor_37_users\",revenue_data_early_vendor_37_users)\n",
    "print(\"revenue_data_early_other_users\",revenue_data_early_other_users)\n",
    "print(\"revenue_data_late_vendor_37_users\",revenue_data_late_vendor_37_users)\n",
    "print(\"revenue_data_late_other_users\",revenue_data_late_other_users)"
   ]
  },
  {
   "cell_type": "code",
   "execution_count": 39,
   "id": "606a1875",
   "metadata": {},
   "outputs": [],
   "source": [
    "#Before April 1st the revenue for vendor 37 users was  194205.37664692578\n",
    "# Before April 1st the revenue for non vendor 37 users was  23695891.757704634\n",
    "# On or after April 1st the revenue for vendor 37 users was  13472.825412197373\n",
    "# On or after April 1st the revenue for non vendor 37 users was  17035421.18248418\n",
    "# Vendor37 users spent the following proportion of total revenue before closure:  0.00819574036852952\n",
    "# Vendor37 users spent the following proportion of total revenue after closure:  0.0007908712833029413\n",
    "\n",
    "# To answer the business question, the spending of vendor 37 users after the closure is smaller than the spending of other users (per user) since 0.0007908712833029413 < 0.0025767964893033462\n",
    "# The vendor 37 users actually spend more than other users before the closure though.\n",
    "\n",
    "# •    Is there any indication that vendor37 users have migrated to new vendors?\n",
    "\n",
    "# Yes, but only a tenth of them since 0.0007908712833029413 is only about a tenth of 0.00819574036852952"
   ]
  },
  {
   "cell_type": "code",
   "execution_count": 40,
   "id": "b76249dd",
   "metadata": {},
   "outputs": [
    {
     "name": "stdout",
     "output_type": "stream",
     "text": [
      "Defaulting to user installation because normal site-packages is not writeable\n",
      "Collecting scikit-learn\n",
      "  Downloading scikit_learn-1.3.0-cp311-cp311-win_amd64.whl (9.2 MB)\n",
      "                                              0.0/9.2 MB ? eta -:--:--\n",
      "     -                                        0.3/9.2 MB 7.9 MB/s eta 0:00:02\n",
      "     ----                                     1.1/9.2 MB 14.4 MB/s eta 0:00:01\n",
      "     --------                                 2.0/9.2 MB 16.1 MB/s eta 0:00:01\n",
      "     ------------                             2.9/9.2 MB 16.8 MB/s eta 0:00:01\n",
      "     ----------------                         3.8/9.2 MB 17.2 MB/s eta 0:00:01\n",
      "     -------------------                      4.5/9.2 MB 16.9 MB/s eta 0:00:01\n",
      "     -------------------                      4.6/9.2 MB 14.6 MB/s eta 0:00:01\n",
      "     -------------------                      4.6/9.2 MB 14.6 MB/s eta 0:00:01\n",
      "     ----------------------                   5.2/9.2 MB 12.7 MB/s eta 0:00:01\n",
      "     --------------------------------         7.4/9.2 MB 16.3 MB/s eta 0:00:01\n",
      "     -----------------------------------      8.3/9.2 MB 16.5 MB/s eta 0:00:01\n",
      "     ---------------------------------------  9.1/9.2 MB 16.6 MB/s eta 0:00:01\n",
      "     ---------------------------------------  9.2/9.2 MB 16.3 MB/s eta 0:00:01\n",
      "     ---------------------------------------- 9.2/9.2 MB 15.1 MB/s eta 0:00:00\n",
      "Requirement already satisfied: numpy>=1.17.3 in c:\\users\\dishadaquid.jahan\\appdata\\roaming\\python\\python311\\site-packages (from scikit-learn) (1.25.0)\n",
      "Collecting scipy>=1.5.0 (from scikit-learn)\n",
      "  Downloading scipy-1.11.2-cp311-cp311-win_amd64.whl (44.0 MB)\n",
      "                                              0.0/44.0 MB ? eta -:--:--\n",
      "     -                                        1.3/44.0 MB 40.3 MB/s eta 0:00:02\n",
      "     -                                        1.9/44.0 MB 23.8 MB/s eta 0:00:02\n",
      "     --                                       2.8/44.0 MB 22.4 MB/s eta 0:00:02\n",
      "     ---                                      3.8/44.0 MB 21.8 MB/s eta 0:00:02\n",
      "     ----                                     4.5/44.0 MB 20.8 MB/s eta 0:00:02\n",
      "     ----                                     5.2/44.0 MB 19.6 MB/s eta 0:00:02\n",
      "     -----                                    6.2/44.0 MB 19.8 MB/s eta 0:00:02\n",
      "     ------                                   7.2/44.0 MB 20.1 MB/s eta 0:00:02\n",
      "     -------                                  8.2/44.0 MB 19.5 MB/s eta 0:00:02\n",
      "     --------                                 9.1/44.0 MB 19.4 MB/s eta 0:00:02\n",
      "     --------                                10.0/44.0 MB 18.8 MB/s eta 0:00:02\n",
      "     ---------                               11.0/44.0 MB 18.7 MB/s eta 0:00:02\n",
      "     ----------                              11.8/44.0 MB 18.2 MB/s eta 0:00:02\n",
      "     -----------                             12.8/44.0 MB 18.2 MB/s eta 0:00:02\n",
      "     ------------                            13.6/44.0 MB 18.2 MB/s eta 0:00:02\n",
      "     ------------                            14.5/44.0 MB 18.2 MB/s eta 0:00:02\n",
      "     -------------                           15.0/44.0 MB 18.2 MB/s eta 0:00:02\n",
      "     --------------                          16.2/44.0 MB 18.2 MB/s eta 0:00:02\n",
      "     ---------------                         17.1/44.0 MB 18.2 MB/s eta 0:00:02\n",
      "     ---------------                         17.9/44.0 MB 18.2 MB/s eta 0:00:02\n",
      "     ----------------                        18.7/44.0 MB 18.2 MB/s eta 0:00:02\n",
      "     -----------------                       19.7/44.0 MB 18.7 MB/s eta 0:00:02\n",
      "     ------------------                      20.7/44.0 MB 18.7 MB/s eta 0:00:02\n",
      "     -------------------                     21.5/44.0 MB 18.7 MB/s eta 0:00:02\n",
      "     -------------------                     22.2/44.0 MB 18.7 MB/s eta 0:00:02\n",
      "     --------------------                    23.1/44.0 MB 18.7 MB/s eta 0:00:02\n",
      "     ---------------------                   24.1/44.0 MB 18.2 MB/s eta 0:00:02\n",
      "     ----------------------                  25.1/44.0 MB 18.7 MB/s eta 0:00:02\n",
      "     ----------------------                  25.9/44.0 MB 18.2 MB/s eta 0:00:01\n",
      "     -----------------------                 26.9/44.0 MB 18.7 MB/s eta 0:00:01\n",
      "     ------------------------                27.6/44.0 MB 18.2 MB/s eta 0:00:01\n",
      "     -------------------------               28.5/44.0 MB 18.2 MB/s eta 0:00:01\n",
      "     -------------------------               29.3/44.0 MB 18.2 MB/s eta 0:00:01\n",
      "     --------------------------              30.0/44.0 MB 18.7 MB/s eta 0:00:01\n",
      "     ---------------------------             31.0/44.0 MB 18.2 MB/s eta 0:00:01\n",
      "     ----------------------------            31.8/44.0 MB 18.2 MB/s eta 0:00:01\n",
      "     -----------------------------           32.7/44.0 MB 18.2 MB/s eta 0:00:01\n",
      "     -----------------------------           33.4/44.0 MB 18.7 MB/s eta 0:00:01\n",
      "     ------------------------------          34.2/44.0 MB 18.7 MB/s eta 0:00:01\n",
      "     -------------------------------         35.2/44.0 MB 18.7 MB/s eta 0:00:01\n",
      "     --------------------------------        36.2/44.0 MB 18.2 MB/s eta 0:00:01\n",
      "     --------------------------------        37.0/44.0 MB 18.7 MB/s eta 0:00:01\n",
      "     ---------------------------------       37.8/44.0 MB 18.7 MB/s eta 0:00:01\n",
      "     ----------------------------------      38.5/44.0 MB 18.2 MB/s eta 0:00:01\n",
      "     ----------------------------------      39.4/44.0 MB 18.2 MB/s eta 0:00:01\n",
      "     -----------------------------------     40.1/44.0 MB 18.7 MB/s eta 0:00:01\n",
      "     ------------------------------------    41.2/44.0 MB 18.7 MB/s eta 0:00:01\n",
      "     -------------------------------------   42.1/44.0 MB 18.7 MB/s eta 0:00:01\n",
      "     --------------------------------------  42.9/44.0 MB 18.2 MB/s eta 0:00:01\n",
      "     --------------------------------------  43.7/44.0 MB 18.7 MB/s eta 0:00:01\n",
      "     --------------------------------------  44.0/44.0 MB 18.7 MB/s eta 0:00:01\n",
      "     --------------------------------------  44.0/44.0 MB 18.7 MB/s eta 0:00:01\n",
      "     --------------------------------------  44.0/44.0 MB 18.7 MB/s eta 0:00:01\n",
      "     --------------------------------------  44.0/44.0 MB 18.7 MB/s eta 0:00:01\n",
      "     --------------------------------------  44.0/44.0 MB 18.7 MB/s eta 0:00:01\n",
      "     --------------------------------------  44.0/44.0 MB 18.7 MB/s eta 0:00:01\n",
      "     --------------------------------------  44.0/44.0 MB 18.7 MB/s eta 0:00:01\n",
      "     --------------------------------------  44.0/44.0 MB 18.7 MB/s eta 0:00:01\n",
      "     --------------------------------------  44.0/44.0 MB 18.7 MB/s eta 0:00:01\n",
      "     --------------------------------------  44.0/44.0 MB 18.7 MB/s eta 0:00:01\n",
      "     --------------------------------------  44.0/44.0 MB 18.7 MB/s eta 0:00:01\n",
      "     --------------------------------------  44.0/44.0 MB 18.7 MB/s eta 0:00:01\n",
      "     ---------------------------------------- 44.0/44.0 MB 8.0 MB/s eta 0:00:00\n",
      "Collecting joblib>=1.1.1 (from scikit-learn)\n",
      "  Downloading joblib-1.3.2-py3-none-any.whl (302 kB)\n",
      "                                              0.0/302.2 kB ? eta -:--:--\n",
      "     ---------------------------------------  297.0/302.2 kB ? eta -:--:--\n",
      "     -------------------------------------- 302.2/302.2 kB 3.1 MB/s eta 0:00:00\n",
      "Collecting threadpoolctl>=2.0.0 (from scikit-learn)\n",
      "  Downloading threadpoolctl-3.2.0-py3-none-any.whl (15 kB)\n",
      "Installing collected packages: threadpoolctl, scipy, joblib, scikit-learn\n",
      "Successfully installed joblib-1.3.2 scikit-learn-1.3.0 scipy-1.11.2 threadpoolctl-3.2.0\n",
      "Note: you may need to restart the kernel to use updated packages.\n"
     ]
    },
    {
     "name": "stderr",
     "output_type": "stream",
     "text": [
      "\n",
      "[notice] A new release of pip is available: 23.1.2 -> 23.2.1\n",
      "[notice] To update, run: python.exe -m pip install --upgrade pip\n"
     ]
    }
   ],
   "source": [
    "pip install scikit-learn\n"
   ]
  },
  {
   "cell_type": "code",
   "execution_count": 41,
   "id": "b27a0058",
   "metadata": {},
   "outputs": [],
   "source": [
    "import pandas as pd\n",
    "import numpy as np\n",
    "from sklearn.model_selection import train_test_split\n",
    "from sklearn.linear_model import LinearRegression\n",
    "from sklearn.metrics import mean_absolute_error\n",
    "\n"
   ]
  },
  {
   "cell_type": "code",
   "execution_count": 44,
   "id": "0aaf58eb",
   "metadata": {},
   "outputs": [],
   "source": [
    "\n",
    "# Merge data\n",
    "merged_data = pd.merge(transaction, active_users, on=[\"country_code\", \"month\", \"day\"])\n",
    "merged_data = pd.merge(merged_data, vendor_map, left_on=\"vendor\",right_on=\"vendor_id\")\n",
    "\n"
   ]
  },
  {
   "cell_type": "code",
   "execution_count": 45,
   "id": "7da18595",
   "metadata": {},
   "outputs": [],
   "source": [
    "# Define features and target\n",
    "X = merged_data[[\"relative_active_users\", \"fee_percentage\"]]\n",
    "y = merged_data[\"revenue\"]\n",
    "\n"
   ]
  },
  {
   "cell_type": "code",
   "execution_count": 46,
   "id": "b68089d5",
   "metadata": {},
   "outputs": [],
   "source": [
    "# Split data\n",
    "X_train, X_test, y_train, y_test = train_test_split(X, y, test_size=0.2, random_state=42)"
   ]
  },
  {
   "cell_type": "code",
   "execution_count": 47,
   "id": "1f3a06d2",
   "metadata": {},
   "outputs": [
    {
     "data": {
      "text/html": [
       "<style>#sk-container-id-1 {color: black;}#sk-container-id-1 pre{padding: 0;}#sk-container-id-1 div.sk-toggleable {background-color: white;}#sk-container-id-1 label.sk-toggleable__label {cursor: pointer;display: block;width: 100%;margin-bottom: 0;padding: 0.3em;box-sizing: border-box;text-align: center;}#sk-container-id-1 label.sk-toggleable__label-arrow:before {content: \"▸\";float: left;margin-right: 0.25em;color: #696969;}#sk-container-id-1 label.sk-toggleable__label-arrow:hover:before {color: black;}#sk-container-id-1 div.sk-estimator:hover label.sk-toggleable__label-arrow:before {color: black;}#sk-container-id-1 div.sk-toggleable__content {max-height: 0;max-width: 0;overflow: hidden;text-align: left;background-color: #f0f8ff;}#sk-container-id-1 div.sk-toggleable__content pre {margin: 0.2em;color: black;border-radius: 0.25em;background-color: #f0f8ff;}#sk-container-id-1 input.sk-toggleable__control:checked~div.sk-toggleable__content {max-height: 200px;max-width: 100%;overflow: auto;}#sk-container-id-1 input.sk-toggleable__control:checked~label.sk-toggleable__label-arrow:before {content: \"▾\";}#sk-container-id-1 div.sk-estimator input.sk-toggleable__control:checked~label.sk-toggleable__label {background-color: #d4ebff;}#sk-container-id-1 div.sk-label input.sk-toggleable__control:checked~label.sk-toggleable__label {background-color: #d4ebff;}#sk-container-id-1 input.sk-hidden--visually {border: 0;clip: rect(1px 1px 1px 1px);clip: rect(1px, 1px, 1px, 1px);height: 1px;margin: -1px;overflow: hidden;padding: 0;position: absolute;width: 1px;}#sk-container-id-1 div.sk-estimator {font-family: monospace;background-color: #f0f8ff;border: 1px dotted black;border-radius: 0.25em;box-sizing: border-box;margin-bottom: 0.5em;}#sk-container-id-1 div.sk-estimator:hover {background-color: #d4ebff;}#sk-container-id-1 div.sk-parallel-item::after {content: \"\";width: 100%;border-bottom: 1px solid gray;flex-grow: 1;}#sk-container-id-1 div.sk-label:hover label.sk-toggleable__label {background-color: #d4ebff;}#sk-container-id-1 div.sk-serial::before {content: \"\";position: absolute;border-left: 1px solid gray;box-sizing: border-box;top: 0;bottom: 0;left: 50%;z-index: 0;}#sk-container-id-1 div.sk-serial {display: flex;flex-direction: column;align-items: center;background-color: white;padding-right: 0.2em;padding-left: 0.2em;position: relative;}#sk-container-id-1 div.sk-item {position: relative;z-index: 1;}#sk-container-id-1 div.sk-parallel {display: flex;align-items: stretch;justify-content: center;background-color: white;position: relative;}#sk-container-id-1 div.sk-item::before, #sk-container-id-1 div.sk-parallel-item::before {content: \"\";position: absolute;border-left: 1px solid gray;box-sizing: border-box;top: 0;bottom: 0;left: 50%;z-index: -1;}#sk-container-id-1 div.sk-parallel-item {display: flex;flex-direction: column;z-index: 1;position: relative;background-color: white;}#sk-container-id-1 div.sk-parallel-item:first-child::after {align-self: flex-end;width: 50%;}#sk-container-id-1 div.sk-parallel-item:last-child::after {align-self: flex-start;width: 50%;}#sk-container-id-1 div.sk-parallel-item:only-child::after {width: 0;}#sk-container-id-1 div.sk-dashed-wrapped {border: 1px dashed gray;margin: 0 0.4em 0.5em 0.4em;box-sizing: border-box;padding-bottom: 0.4em;background-color: white;}#sk-container-id-1 div.sk-label label {font-family: monospace;font-weight: bold;display: inline-block;line-height: 1.2em;}#sk-container-id-1 div.sk-label-container {text-align: center;}#sk-container-id-1 div.sk-container {/* jupyter's `normalize.less` sets `[hidden] { display: none; }` but bootstrap.min.css set `[hidden] { display: none !important; }` so we also need the `!important` here to be able to override the default hidden behavior on the sphinx rendered scikit-learn.org. See: https://github.com/scikit-learn/scikit-learn/issues/21755 */display: inline-block !important;position: relative;}#sk-container-id-1 div.sk-text-repr-fallback {display: none;}</style><div id=\"sk-container-id-1\" class=\"sk-top-container\"><div class=\"sk-text-repr-fallback\"><pre>LinearRegression()</pre><b>In a Jupyter environment, please rerun this cell to show the HTML representation or trust the notebook. <br />On GitHub, the HTML representation is unable to render, please try loading this page with nbviewer.org.</b></div><div class=\"sk-container\" hidden><div class=\"sk-item\"><div class=\"sk-estimator sk-toggleable\"><input class=\"sk-toggleable__control sk-hidden--visually\" id=\"sk-estimator-id-1\" type=\"checkbox\" checked><label for=\"sk-estimator-id-1\" class=\"sk-toggleable__label sk-toggleable__label-arrow\">LinearRegression</label><div class=\"sk-toggleable__content\"><pre>LinearRegression()</pre></div></div></div></div></div>"
      ],
      "text/plain": [
       "LinearRegression()"
      ]
     },
     "execution_count": 47,
     "metadata": {},
     "output_type": "execute_result"
    }
   ],
   "source": [
    "# Build and train the model\n",
    "model = LinearRegression()\n",
    "model.fit(X_train, y_train)"
   ]
  },
  {
   "cell_type": "code",
   "execution_count": 48,
   "id": "6a8841f2",
   "metadata": {},
   "outputs": [
    {
     "name": "stdout",
     "output_type": "stream",
     "text": [
      "Mean Absolute Error: 32.34286314123108\n",
      "Estimated Revenue Difference due to Closure: 102471.93246872022\n"
     ]
    }
   ],
   "source": [
    "# Split data\n",
    "X_train, X_test, y_train, y_test = train_test_split(X, y, test_size=0.2, random_state=42)\n",
    "\n",
    "\n",
    "\n",
    "# Evaluate the model\n",
    "y_pred = model.predict(X_test)\n",
    "mae = mean_absolute_error(y_test, y_pred)\n",
    "print(\"Mean Absolute Error:\", mae)\n",
    "\n",
    "# Predict revenue without Vendor37 closure\n",
    "predicted_revenue = model.predict(X)  # Predict for the entire dataset\n",
    "\n",
    "# Add predicted revenue to the merged data\n",
    "merged_data[\"predicted_revenue\"] = predicted_revenue\n",
    "\n",
    "# Calculate revenue difference due to closure\n",
    "revenue_difference = merged_data[merged_data[\"vendor_id\"] == \"vendor37\"][\"predicted_revenue\"].sum()\n",
    "\n",
    "# Print the impact of Vendor37 closure\n",
    "print(\"Estimated Revenue Difference due to Closure:\", revenue_difference)\n"
   ]
  },
  {
   "cell_type": "code",
   "execution_count": null,
   "id": "d60974c3",
   "metadata": {},
   "outputs": [],
   "source": []
  }
 ],
 "metadata": {
  "kernelspec": {
   "display_name": "Python 3 (ipykernel)",
   "language": "python",
   "name": "python3"
  },
  "language_info": {
   "codemirror_mode": {
    "name": "ipython",
    "version": 3
   },
   "file_extension": ".py",
   "mimetype": "text/x-python",
   "name": "python",
   "nbconvert_exporter": "python",
   "pygments_lexer": "ipython3",
   "version": "3.11.4"
  }
 },
 "nbformat": 4,
 "nbformat_minor": 5
}
